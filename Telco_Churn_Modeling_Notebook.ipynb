{
 "cells": [
  {
   "cell_type": "markdown",
   "id": "a989c4c0",
   "metadata": {},
   "source": [
    "# 🤖 Telco Customer Churn - Machine Learning Model\n",
    "In this notebook, we will build a classification model to predict whether a customer will churn."
   ]
  },
  {
   "cell_type": "code",
   "execution_count": null,
   "id": "d9b47439",
   "metadata": {},
   "outputs": [],
   "source": [
    "# 📦 Import libraries\n",
    "import pandas as pd\n",
    "import numpy as np\n",
    "import matplotlib.pyplot as plt\n",
    "import seaborn as sns\n",
    "\n",
    "from sklearn.model_selection import train_test_split\n",
    "from sklearn.preprocessing import LabelEncoder, StandardScaler\n",
    "from sklearn.ensemble import RandomForestClassifier\n",
    "from sklearn.metrics import classification_report, confusion_matrix, roc_auc_score, roc_curve\n"
   ]
  },
  {
   "cell_type": "code",
   "execution_count": null,
   "id": "585ef3a0",
   "metadata": {},
   "outputs": [],
   "source": [
    "# 📁 Load the dataset\n",
    "df = pd.read_csv(\"WA_Fn-UseC_-Telco-Customer-Churn.csv\")\n",
    "df['TotalCharges'] = pd.to_numeric(df['TotalCharges'], errors='coerce')\n",
    "df['TotalCharges'].fillna(0, inplace=True)\n",
    "df.drop(['customerID'], axis=1, inplace=True)"
   ]
  },
  {
   "cell_type": "code",
   "execution_count": null,
   "id": "4e012f3e",
   "metadata": {},
   "outputs": [],
   "source": [
    "# 🔄 Encode categorical variables\n",
    "for col in df.select_dtypes(include='object').columns:\n",
    "    if col != 'Churn':\n",
    "        df[col] = LabelEncoder().fit_transform(df[col])\n",
    "df['Churn'] = df['Churn'].map({'Yes': 1, 'No': 0})"
   ]
  },
  {
   "cell_type": "code",
   "execution_count": null,
   "id": "0cc27e88",
   "metadata": {},
   "outputs": [],
   "source": [
    "# ✂️ Split the data\n",
    "X = df.drop('Churn', axis=1)\n",
    "y = df['Churn']\n",
    "X_train, X_test, y_train, y_test = train_test_split(X, y, test_size=0.2, random_state=42)"
   ]
  },
  {
   "cell_type": "code",
   "execution_count": null,
   "id": "33531b50",
   "metadata": {},
   "outputs": [],
   "source": [
    "# ⚙️ Scale features\n",
    "scaler = StandardScaler()\n",
    "X_train_scaled = scaler.fit_transform(X_train)\n",
    "X_test_scaled = scaler.transform(X_test)"
   ]
  },
  {
   "cell_type": "code",
   "execution_count": null,
   "id": "5a3eaaa5",
   "metadata": {},
   "outputs": [],
   "source": [
    "# 🧠 Train a Random Forest classifier\n",
    "model = RandomForestClassifier(random_state=42)\n",
    "model.fit(X_train_scaled, y_train)\n",
    "y_pred = model.predict(X_test_scaled)"
   ]
  },
  {
   "cell_type": "code",
   "execution_count": null,
   "id": "9f1be300",
   "metadata": {},
   "outputs": [],
   "source": [
    "# 📊 Evaluation\n",
    "print(\"Classification Report:\\n\", classification_report(y_test, y_pred))\n",
    "print(\"Confusion Matrix:\\n\", confusion_matrix(y_test, y_pred))"
   ]
  },
  {
   "cell_type": "code",
   "execution_count": null,
   "id": "a38c0375",
   "metadata": {},
   "outputs": [],
   "source": [
    "# 📈 ROC Curve\n",
    "y_prob = model.predict_proba(X_test_scaled)[:, 1]\n",
    "fpr, tpr, thresholds = roc_curve(y_test, y_prob)\n",
    "plt.plot(fpr, tpr, label=f\"AUC = {roc_auc_score(y_test, y_prob):.2f}\")\n",
    "plt.plot([0, 1], [0, 1], 'k--')\n",
    "plt.xlabel(\"False Positive Rate\")\n",
    "plt.ylabel(\"True Positive Rate\")\n",
    "plt.title(\"ROC Curve\")\n",
    "plt.legend()\n",
    "plt.show()"
   ]
  }
 ],
 "metadata": {},
 "nbformat": 4,
 "nbformat_minor": 5
}